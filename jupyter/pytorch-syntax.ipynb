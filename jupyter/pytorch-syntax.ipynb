{
 "cells": [
  {
   "cell_type": "markdown",
   "metadata": {
    "collapsed": true
   },
   "source": [
    "在开始介绍 pytorch 的一个使用语法结构前,我们先说一下 深度学习领域几位真正的大神,可以说深度学习领域的目前的产出都离不开这几位大神\n",
    "Hinton, LeCun, Bengio\n",
    "\n",
    "Hinton 杰弗里·埃弗里斯特·辛顿\n",
    "<img src=\"https://upload.wikimedia.org/wikipedia/commons/thumb/3/34/Geoffrey_Hinton_at_UBC.jpg/440px-Geoffrey_Hinton_at_UBC.jpg\" style=\"zoom:50%;margin-left:0px\" />\n",
    "\n",
    "杰弗里·埃弗里斯特·辛顿 FRS（英语：Geoffrey Everest Hinton）（1947年12月6日－）是一位英国出生的加拿大计算机学家和心理学家，以其在神经网络方面的贡献闻名。辛顿是反向传播算法和对比散度算法的发明人之一，也是深度学习的积极推动者\n",
    "\n",
    "后面两位就不细说了,总之都是很牛,可以说这三位以及他们的学生 点亮了深度学习领域的一盏明灯\n",
    "\n",
    "\n",
    "\n",
    "\n",
    "\n"
   ]
  },
  {
   "cell_type": "markdown",
   "metadata": {},
   "source": [
    "### pytorch 基础及重要 api 介绍"
   ]
  },
  {
   "cell_type": "markdown",
   "metadata": {},
   "source": [
    "首先 推荐优先使用虚拟环境,接下来我们准备安装依赖包 \n",
    "\n",
    "```\n",
    "pip3 install http://download.pytorch.org/whl/torch-0.3.1-cp36-cp36m-macosx_10_7_x86_64.whl \n",
    "pip3 install torchvision \n",
    "```"
   ]
  },
  {
   "cell_type": "markdown",
   "metadata": {},
   "source": [
    "#### Tensor 张量\n",
    "Pytorch 里面的基本对象就是张量 Tensor, 其表示的是已给多维的矩阵,其和 numpy 的数组是对应的 Tensor ,二者的区别就是 Pytorch 的 Tensor 可以运行在 GPU 上, TensorFlow 的 tensor 也是\n",
    "\n",
    "依据数据类型 tensor 分一下几种\n",
    "- torch.FloatTensor 32\n",
    "- torch.DoubleTensor 64\n",
    "- torch.shortTensor 16\n",
    "- torch.IntTensor 32\n",
    "\n",
    "下面我们给一些实例说明演示一下"
   ]
  },
  {
   "cell_type": "code",
   "execution_count": 1,
   "metadata": {},
   "outputs": [
    {
     "name": "stdout",
     "output_type": "stream",
     "text": [
      "\n",
      " 2  3\n",
      " 4  8\n",
      " 7  9\n",
      "[torch.FloatTensor of size 3x2]\n",
      "\n",
      "a size is torch.Size([3, 2])\n"
     ]
    }
   ],
   "source": [
    "import torch\n",
    "a = torch.FloatTensor([[2,3], [4,8], [7,9]])\n",
    "print(\"{}\".format(a))\n",
    "print(\"a size is {}\".format(a.size()))"
   ]
  },
  {
   "cell_type": "code",
   "execution_count": 2,
   "metadata": {},
   "outputs": [
    {
     "name": "stdout",
     "output_type": "stream",
     "text": [
      "zero tensor:\n",
      " 0  0\n",
      " 0  0\n",
      " 0  0\n",
      "[torch.FloatTensor of size 3x2]\n",
      "\n",
      "randn init the tensor:\n",
      "-1.4649  0.4602\n",
      "-0.0587 -0.3246\n",
      "-0.4576  0.5864\n",
      "[torch.FloatTensor of size 3x2]\n",
      "\n"
     ]
    }
   ],
   "source": [
    "#使用 torch 创建全是 0 的张量\n",
    "c = torch.zeros((3,2))\n",
    "print(\"zero tensor:{}\".format(c))\n",
    "\n",
    "#随机初始化指定矩阵\n",
    "d = torch.randn((3,2))\n",
    "print(\"randn init the tensor:{}\".format(d))"
   ]
  },
  {
   "cell_type": "code",
   "execution_count": 3,
   "metadata": {},
   "outputs": [
    {
     "name": "stdout",
     "output_type": "stream",
     "text": [
      "conver to numpy is \n",
      " [[-1.46490312  0.46020213]\n",
      " [-0.05871292 -0.32455546]\n",
      " [-0.45758563  0.58635259]]\n",
      "the torch_e is : \n",
      " 2  3\n",
      " 4  5\n",
      "[torch.LongTensor of size 2x2]\n",
      "\n",
      "the torch_e change data type is : \n",
      " 2  3\n",
      " 4  5\n",
      "[torch.FloatTensor of size 2x2]\n",
      "\n"
     ]
    }
   ],
   "source": [
    "import numpy as np\n",
    "#与 numpy 互转\n",
    "numpy_b = d.numpy()\n",
    "print(\"conver to numpy is \\n {}\".format(numpy_b))\n",
    "#np array conver to tensor\n",
    "e = np.array([[2, 3], [4, 5]])\n",
    "torch_e = torch.from_numpy(e)\n",
    "print(\"the torch_e is : {}\".format(torch_e))\n",
    "print(\"the torch_e change data type is : {}\".format(torch_e.float()))"
   ]
  },
  {
   "cell_type": "markdown",
   "metadata": {},
   "source": [
    "#### Variable \n",
    "变量的本质其实和张量相同,只不过 torch 当中的变量可以自动求导,不过变量不会被放入计算图中, torch 的变量实在 torch.autograd.Variable 中 将一个 tensor 变成 Variable 很简单 只需要 Variable(a) 就可以了\n",
    "> Variable 包含三个比较重要的组成属性: ***data*** , ***grad*** , ***grad_fn*** 通过 data 可以取出变量里面的张量数值, grad_fn 是计算梯度的操作,比如是通过加减还是乘除得来的,最后 grad 是反向传播的梯度"
   ]
  },
  {
   "cell_type": "code",
   "execution_count": 4,
   "metadata": {},
   "outputs": [
    {
     "name": "stdout",
     "output_type": "stream",
     "text": [
      "Variable containing:\n",
      " 2\n",
      "[torch.FloatTensor of size 1]\n",
      "\n",
      "Variable containing:\n",
      " 1\n",
      "[torch.FloatTensor of size 1]\n",
      "\n",
      "Variable containing:\n",
      " 1\n",
      "[torch.FloatTensor of size 1]\n",
      "\n"
     ]
    }
   ],
   "source": [
    "from torch.autograd import Variable\n",
    "\n",
    "x = Variable(torch.Tensor([1]), requires_grad = True)\n",
    "w = Variable(torch.Tensor([2]), requires_grad = True)\n",
    "b = Variable(torch.Tensor([3]), requires_grad = True)\n",
    "# Build a computational graph\n",
    "y = w * x + b   # y = 2 * x +3\n",
    "\n",
    "y.backward()\n",
    "\n",
    "print(x.grad)    # x.grad = 2\n",
    "print(w.grad)    # w.grad = 1\n",
    "print(b.grad)    # b.grad = 1"
   ]
  },
  {
   "cell_type": "code",
   "execution_count": 5,
   "metadata": {},
   "outputs": [
    {
     "name": "stdout",
     "output_type": "stream",
     "text": [
      "y:Variable containing:\n",
      "-3.3103\n",
      " 1.2091\n",
      "-0.7545\n",
      "[torch.FloatTensor of size 3]\n",
      "\n",
      "Variable containing:\n",
      " 2.0000\n",
      " 0.2000\n",
      " 0.0200\n",
      "[torch.FloatTensor of size 3]\n",
      "\n"
     ]
    }
   ],
   "source": [
    "# 除了上面针对标量求导以外,我们还可以针对矩阵求导\n",
    "x = torch.randn(3)\n",
    "x = Variable(x, requires_grad=True)\n",
    "y = x * 2\n",
    "print(\"y:{}\".format(y))\n",
    "y.backward(torch.FloatTensor([1, 0.1, 0.01]))\n",
    "print(x.grad)"
   ]
  },
  {
   "cell_type": "markdown",
   "metadata": {},
   "source": [
    "#### 数据集\n",
    "在处理任何机器学习问题之前都需要数据读取,并进行预处理. Pytorch 提供了很多工具使得数据的读取和预处理变得很容易.\n",
    "\n",
    "torch.utils.data.DataSet 是代表这一数据的抽象类,你可以自己定义你的数据类继承 和 重写 这个抽象类, 你可以自己定义你的数据类继承 和重写这个抽象类,非常简单, 只需要定义 ***_ _len_ _*** ,***_ _getitem_ _*** 这两个列表,例如"
   ]
  },
  {
   "cell_type": "code",
   "execution_count": 6,
   "metadata": {},
   "outputs": [],
   "source": [
    "from torch.utils.data import Dataset,DataLoader\n",
    "class MyDataSet(Dataset):\n",
    "    def __init__(self, csv_file, txt_file, root_dir, other_file):\n",
    "        self.csv_file = csv_file\n",
    "        with open(txt_file,'r') as f:\n",
    "            data_list = f.readlines()\n",
    "        self.txt_data = data_list\n",
    "    \n",
    "    \n",
    "    def __len__(self):\n",
    "        return len(self.csv_file)\n",
    "    \n",
    "    \n",
    "    def __getitem__(self, idx):\n",
    "        data = txt_data[idx]\n",
    "        return data"
   ]
  },
  {
   "cell_type": "code",
   "execution_count": 7,
   "metadata": {},
   "outputs": [],
   "source": [
    "# 批量迭代可以使用 \n",
    "#dataiter = DataLoader(MyDataSet, batch_size=32, shuffle=True, collate_fn=default_collate)"
   ]
  },
  {
   "cell_type": "markdown",
   "metadata": {},
   "source": [
    "#### 模组 nn.Module\n",
    "在 pyTorch 里面编写神经网络,所有的层结构 和损失函数都来自于 torch.nn, 所有的模型都从这个基类继承而来  nn.Module"
   ]
  },
  {
   "cell_type": "code",
   "execution_count": 8,
   "metadata": {},
   "outputs": [],
   "source": [
    "import torch\n",
    "import torch.nn\n",
    "class net_name(torch.nn.Module):\n",
    "    def __init__(self, other_arguments):\n",
    "        super(\"net_name\", self).__init__()\n",
    "        self.conv1 = torch.nn.Conv2d(in_channels=None, out_channels=None, kernel_size=3)\n",
    "        \n",
    "        \n",
    "    def forward(self, x):\n",
    "        x = self.conv1\n",
    "        return x"
   ]
  },
  {
   "cell_type": "markdown",
   "metadata": {},
   "source": [
    "#### 模型的加载和保存\n",
    "在 PyTorch里面使用 ***torch.save***来保存模型的结构和参数，有两种保存方式: \n",
    "- 保存整个模型的结构信息和参数信息，保存的对象是模型 model; \n",
    "- 保存模型的参数，保存的对象是模型的状态 model.state_dict() 可以这样保存， savc 的第 个参数是保存对象，第二个参数是保存路径及名称:\n",
    "```torch.save(model , 'model.pth')``` \n",
    "```torch.save(model.state_dict(),'model_state.pth')```\n",
    "\n",
    "加载模型有两种方式对应于保存模型的方式: \n",
    "- 加载完整的模型结构和参数信息，使用 loadmodel = torch.load('model.pth' ) ，在网络较大的时候加载的时间比较长，同时存储空间也比较大; -- 加载模型参数信息，需要先导人模型的结构，然后通过 model.load_state_dic(torch.load('model state.pth')) 来导入\n"
   ]
  },
  {
   "cell_type": "markdown",
   "metadata": {},
   "source": [
    "#### 基于 pytorch 的一些简单应用"
   ]
  },
  {
   "cell_type": "markdown",
   "metadata": {},
   "source": [
    "线性模型:通常就是给定很多个数据点,希望能够找到一个函数来拟合这些数据点,并使其误差最小,比如最简单的一元线性模型可以用"
   ]
  },
  {
   "cell_type": "code",
   "execution_count": 9,
   "metadata": {},
   "outputs": [],
   "source": [
    "import numpy as np\n",
    "x_train = np.array([[3.3], [4.4], [5.5], [6.71], [6.93], [4.168], \n",
    "                  [9.779], [6.182], [7.59], [2.167], [7.042], \n",
    "                  [10.791], [5.313], [7.997], [3.1]], dtype=np.float32)\n",
    "\n",
    "y_train = np.array([[1.7], [2.76 ], [2.09], [3.19], [1.694], \n",
    "                     [1.573], [3.366], [2.596], [2.53], [1.221], [2.827],\n",
    "                     [3.465], [1.65], [2.904], [1.3]], dtype=np.float32)"
   ]
  },
  {
   "cell_type": "code",
   "execution_count": 10,
   "metadata": {},
   "outputs": [
    {
     "data": {
      "image/png": "[encoded data removed]",
      "text/plain": [
       "<Figure size 432x288 with 1 Axes>"
      ]
     },
     "metadata": {},
     "output_type": "display_data"
    }
   ],
   "source": [
    "import matplotlib.pyplot as plt\n",
    "plt.figure(1)#就在图表1中画图！\n",
    "#\n",
    "#plt1=plt.subplot(2,1,1)\n",
    "T = np.arctan2(x_train,y_train) # for color value\n",
    "# 散点图\n",
    "plt.scatter(x_train, y_train, s=75, c=T, alpha=.5)\n",
    "# 线图\n",
    "#plt.plot(y_train,x_train,'.-')\n",
    "plt.xlabel('x_train')\n",
    "plt.xlim(0,10)\n",
    "plt.ylim(0.00,10)\n",
    "plt.ylabel('y_tain')\n",
    "plt.show()"
   ]
  },
  {
   "cell_type": "code",
   "execution_count": 11,
   "metadata": {},
   "outputs": [],
   "source": [
    "class LinearRegression(torch.nn.Module):\n",
    "    def __init__(self):\n",
    "        super(LinearRegression, self).__init__()\n",
    "        self.linear = torch.nn.Linear(1,1) #输入输出定义都是1维\n",
    "    \n",
    "    def forward(self, x):\n",
    "        out = self.linear(x)\n",
    "        return out\n",
    "\n",
    "if torch.cuda.is_available():\n",
    "    model = LinearRegression().cuda()\n",
    "else:\n",
    "    model = LinearRegression()\n",
    "    \n",
    "criterion = torch.nn.MSELoss() #定义均方差损失函数\n",
    "optimizer = torch.optim.Adam(model.parameters(), lr=0.0003)#定义优化函数,这里使用梯度下降\n"
   ]
  },
  {
   "cell_type": "code",
   "execution_count": 12,
   "metadata": {},
   "outputs": [
    {
     "name": "stdout",
     "output_type": "stream",
     "text": [
      "Epoch:19999/1000000 loss:0.1689153015613556 \n",
      "Epoch:39999/1000000 loss:0.1689152717590332 \n",
      "Epoch:59999/1000000 loss:0.1689152717590332 \n",
      "Epoch:79999/1000000 loss:0.168915256857872 \n",
      "Epoch:99999/1000000 loss:0.168915256857872 \n",
      "Epoch:119999/1000000 loss:0.168915256857872 \n",
      "Epoch:139999/1000000 loss:0.1689152866601944 \n",
      "Epoch:159999/1000000 loss:0.16891522705554962 \n",
      "Epoch:179999/1000000 loss:0.1689152866601944 \n",
      "Epoch:199999/1000000 loss:0.1689152866601944 \n",
      "Epoch:219999/1000000 loss:0.16891522705554962 \n",
      "Epoch:239999/1000000 loss:0.1689152866601944 \n",
      "Epoch:259999/1000000 loss:0.16891522705554962 \n",
      "Epoch:279999/1000000 loss:0.168915256857872 \n",
      "Epoch:299999/1000000 loss:0.1689152717590332 \n",
      "Epoch:319999/1000000 loss:0.16891524195671082 \n",
      "Epoch:339999/1000000 loss:0.168915256857872 \n",
      "Epoch:359999/1000000 loss:0.1689152717590332 \n",
      "Epoch:379999/1000000 loss:0.16891522705554962 \n",
      "Epoch:399999/1000000 loss:0.1689152866601944 \n",
      "Epoch:419999/1000000 loss:0.16891521215438843 \n",
      "Epoch:439999/1000000 loss:0.168915256857872 \n",
      "Epoch:459999/1000000 loss:0.1689152717590332 \n",
      "Epoch:479999/1000000 loss:0.168915256857872 \n",
      "Epoch:499999/1000000 loss:0.168915256857872 \n",
      "Epoch:519999/1000000 loss:0.16891522705554962 \n",
      "Epoch:539999/1000000 loss:0.16891524195671082 \n",
      "Epoch:559999/1000000 loss:0.168915256857872 \n",
      "Epoch:579999/1000000 loss:0.1689152717590332 \n",
      "Epoch:599999/1000000 loss:0.16891524195671082 \n",
      "Epoch:619999/1000000 loss:0.16891524195671082 \n",
      "Epoch:639999/1000000 loss:0.16891524195671082 \n",
      "Epoch:659999/1000000 loss:0.16891522705554962 \n",
      "Epoch:679999/1000000 loss:0.168915256857872 \n",
      "Epoch:699999/1000000 loss:0.168915256857872 \n",
      "Epoch:719999/1000000 loss:0.16891524195671082 \n",
      "Epoch:739999/1000000 loss:0.1689152866601944 \n",
      "Epoch:759999/1000000 loss:0.16891524195671082 \n",
      "Epoch:779999/1000000 loss:0.1689152866601944 \n",
      "Epoch:799999/1000000 loss:0.1689152866601944 \n",
      "Epoch:819999/1000000 loss:0.168915256857872 \n",
      "Epoch:839999/1000000 loss:0.16891522705554962 \n",
      "Epoch:859999/1000000 loss:0.16891524195671082 \n",
      "Epoch:879999/1000000 loss:0.1689152866601944 \n",
      "Epoch:899999/1000000 loss:0.1689152866601944 \n",
      "Epoch:919999/1000000 loss:0.168915256857872 \n",
      "Epoch:939999/1000000 loss:0.168915256857872 \n",
      "Epoch:959999/1000000 loss:0.168915256857872 \n",
      "Epoch:979999/1000000 loss:0.1689152866601944 \n",
      "Epoch:999999/1000000 loss:0.16891524195671082 \n"
     ]
    }
   ],
   "source": [
    "#接下来我们开始训练我们的模型\n",
    "from torch.autograd import Variable\n",
    "num_epochs = 1000000\n",
    "for epoch in range(num_epochs):\n",
    "    if torch.cuda.is_available():\n",
    "        inputs = Variable(torch.from_numpy(x_train)).cuda()\n",
    "        target = Variable(torch.from_numpy(y_train)).cuda()\n",
    "    else:\n",
    "        inputs = Variable(torch.from_numpy(x_train))\n",
    "        target = Variable(torch.from_numpy(y_train))\n",
    "    # forward the forward gen the output\n",
    "    out = model(inputs)\n",
    "    loss = criterion(out, target)\n",
    "    # backward\n",
    "    # 每次反向传播 都重新归零梯度 否则会梯度累加 造成不收敛\n",
    "    optimizer.zero_grad()\n",
    "    loss.backward()\n",
    "    optimizer.step()\n",
    "    \n",
    "    if (epoch+1)%20000 ==0:\n",
    "        print(\"Epoch:{}/{} loss:{} \".format(epoch, num_epochs, loss.data[0]))"
   ]
  },
  {
   "cell_type": "code",
   "execution_count": 13,
   "metadata": {},
   "outputs": [
    {
     "data": {
      "image/png": "[encoded data removed]",
      "text/plain": [
       "<Figure size 432x288 with 1 Axes>"
      ]
     },
     "metadata": {},
     "output_type": "display_data"
    }
   ],
   "source": [
    "#做完训练之后我们简单预测一下结果\n",
    "#将模型变成测试模式,这是因为有一些层操作如 \n",
    "#Dropout 和 BatchNormalization 在训练和测试的时候是不一样的\n",
    "model.eval() \n",
    "predict = model(Variable(torch.from_numpy(x_train)))\n",
    "predict = predict.data.numpy()\n",
    "plt.figure(2)#就在图表1中画图！\n",
    "T = np.arctan2(y_train,x_train) # for color value\n",
    "# 散点图\n",
    "plt.scatter(x_train, y_train, s=75, c=T, alpha=.5)\n",
    "plt.plot(x_train, predict, label = 'Fitting Line')\n",
    "plt.xlabel=\"x\"\n",
    "plt.Ylabel=\"y\"\n",
    "plt.xlim(0,10)\n",
    "plt.ylim(0.00,10)\n",
    "plt.show()"
   ]
  },
  {
   "cell_type": "markdown",
   "metadata": {},
   "source": [
    "#### 多项式回归\n",
    "对于一般的线性回归,由于该函数拟合出来是一条直线,所以进度欠佳,我们可以考虑多项式回归,也就是提高每个属性的次数.而不再是使用一次去回归目标函数\n",
    "\n",
    "原理和线性回归是一样的,只不过这里用的是高次多项式,而不是简单的一次线性多项式\n",
    "我们这里设置参数方程\n",
    "    y= b + w1*xz + w2*x^2 + 2.4*x^3\n",
    "另外在 pytorch 里面使用 torch.cat() 来实现Tensor 的拼接,这里就不详细介绍了"
   ]
  },
  {
   "cell_type": "markdown",
   "metadata": {},
   "source": [
    "#### 分类问题\n",
    "    机器学习当中的监督学习主要分为回归问题和分类问题, 回归他希望预测的结果是连续的, 那么分类问题所所预测的结果就是离散的类别,他的输入可以是离散的,也可以是连续的  "
   ]
  },
  {
   "cell_type": "markdown",
   "metadata": {},
   "source": [
    "#### 标准案例-手写数字图片识别\n",
    "\n",
    "MNIST 数据集是一个手写字体数据集，包含O 到9 这10 个数字，其中有55000 张\n",
    "训练集， 10000 张测试集.5000 张验证集，图片大小是28 x 28 的灰度罔，如图3.28所示\n",
    "\n",
    "首先我们构建神经网络结构"
   ]
  },
  {
   "cell_type": "code",
   "execution_count": 14,
   "metadata": {},
   "outputs": [
    {
     "data": {
      "text/plain": [
       "'\\n导入构建网络结构的包 nn  和 学习优化器包 optimm\\n导入基础变量\\n导入数据加载工具\\n导入可视化工具\\n'"
      ]
     },
     "execution_count": 14,
     "metadata": {},
     "output_type": "execute_result"
    }
   ],
   "source": [
    "import torch\n",
    "from torch import  nn, optim\n",
    "from torch.autograd import Variable\n",
    "from torch.utils.data import DataLoader\n",
    "from torchvision import datasets,transforms\n",
    "import torch.nn.functional as F\n",
    "\n",
    "\"\"\"\n",
    "导入构建网络结构的包 nn  和 学习优化器包 optimm\n",
    "导入基础变量\n",
    "导入数据加载工具\n",
    "导入可视化工具\n",
    "\"\"\"\n"
   ]
  },
  {
   "cell_type": "code",
   "execution_count": 15,
   "metadata": {},
   "outputs": [],
   "source": [
    "#定义一些超参\n",
    "batch_size=64\n",
    "test_batch_size=1000\n",
    "epochs=10\n",
    "lr=0.01\n",
    "momentum=0.5\n",
    "no_cuda=True\n",
    "seed=1\n",
    "log_interval=10\n",
    "cuda=torch.cuda.is_available()"
   ]
  },
  {
   "cell_type": "code",
   "execution_count": 16,
   "metadata": {},
   "outputs": [],
   "source": [
    "torch.manual_seed(seed)\n",
    "if cuda:\n",
    "    torch.cuda.manual_seed(seed)\n",
    "    \n",
    "kwargs = {'num_workers': 1, 'pin_memory': True} if cuda else {}\n"
   ]
  },
  {
   "cell_type": "markdown",
   "metadata": {},
   "source": []
  },
  {
   "cell_type": "code",
   "execution_count": 17,
   "metadata": {},
   "outputs": [],
   "source": [
    "#自动下载手写图片的训练数据\n",
    "train_loader = torch.utils.data.DataLoader(\n",
    "    datasets.MNIST('../data', train=True, download=True,\n",
    "                   transform=transforms.Compose([\n",
    "                       transforms.ToTensor(),\n",
    "                       transforms.Normalize((0.1307,), (0.3081,))\n",
    "                   ])),\n",
    "    batch_size=batch_size, shuffle=True, **kwargs)\n",
    "test_loader = torch.utils.data.DataLoader(\n",
    "    datasets.MNIST('../data', train=False, transform=transforms.Compose([\n",
    "                       transforms.ToTensor(),\n",
    "                       transforms.Normalize((0.1307,), (0.3081,))\n",
    "                   ])),\n",
    "    batch_size=test_batch_size, shuffle=True, **kwargs)"
   ]
  },
  {
   "cell_type": "markdown",
   "metadata": {},
   "source": [
    "我们构建一个简单的卷积神经网络,首先我们介绍一下 pytorch 里面的conv2d\n",
    "`torch.nn.Conv2d(in_channels, out_channels, kernel_size, stride=1, padding=0, dilation=1, groups=1, bias=True)`\n",
    "http://pytorch.org/docs/master/nn.html\n",
    "\n",
    "第一层卷积,将输入的 channel 放大10倍,主要 group 这里是指卷积任务怎么拆分,分几组,我们这里默认1 所有输入全部链接到输出\n",
    "第二层我们将input channel 10 放大道20,\n",
    "接下来我们添加 dropout 防止过拟合\n",
    "最后我们进行两次全连接\n"
   ]
  },
  {
   "cell_type": "markdown",
   "metadata": {},
   "source": [
    "```python\n",
    "class Net(nn.Module):\n",
    "    def __init__(self):\n",
    "        super(Net, self).__init__()\n",
    "        #卷积后 h = [h+2*padding-dilation∗(kernel_size−1)−1]/stride + 1\n",
    "        self.conv1 = nn.Conv2d(1, 10, kernel_size=5)\n",
    "        self.conv2 = nn.Conv2d(10, 20, kernel_size=5)\n",
    "        #使用 dropout 防止过拟合\n",
    "        self.conv2_drop = nn.Dropout2d()\n",
    "        self.fc1 = nn.Linear(320, 50)\n",
    "        self.fc2 = nn.Linear(50, 10)\n",
    "\n",
    "    def forward(self, x):\n",
    "        x = F.relu(F.max_pool2d(self.conv1(x), 2))\n",
    "        x = F.relu(F.max_pool2d(self.conv2_drop(self.conv2(x)), 2))\n",
    "        x = x.view(-1, 320)\n",
    "        x = F.relu(self.fc1(x))\n",
    "        x = F.dropout(x, training=self.training)\n",
    "        x = self.fc2(x)\n",
    "        return F.log_softmax(x, dim=1)\n",
    "```"
   ]
  },
  {
   "cell_type": "markdown",
   "metadata": {},
   "source": [
    "```python\n",
    "model = Net()\n",
    "if cuda:\n",
    "    model.cuda()\n",
    "optimizer = optim.SGD(model.parameters(), lr=lr, momentum=momentum)\n",
    "```"
   ]
  },
  {
   "cell_type": "markdown",
   "metadata": {},
   "source": [
    "```python\n",
    "def train(epoch):\n",
    "    model.train()\n",
    "    for batch_idx, (data, target) in enumerate(train_loader):\n",
    "        if cuda:\n",
    "            data, target = data.cuda(), target.cuda()\n",
    "        data, target = Variable(data), Variable(target)\n",
    "        optimizer.zero_grad()\n",
    "        output = model(data)\n",
    "        loss = F.nll_loss(output, target)\n",
    "        loss.backward()\n",
    "        optimizer.step()\n",
    "        if batch_idx % log_interval == 0:\n",
    "            print('Train Epoch: {} [{}/{} ({:.0f}%)]\\tLoss: {:.6f}'.format(\n",
    "                epoch, batch_idx * len(data), len(train_loader.dataset),\n",
    "                100. * batch_idx / len(train_loader), loss.data[0]))\n",
    "\n",
    "def test():\n",
    "    model.eval()\n",
    "    test_loss = 0\n",
    "    correct = 0\n",
    "    for data, target in test_loader:\n",
    "        if cuda:\n",
    "            data, target = data.cuda(), target.cuda()\n",
    "        data, target = Variable(data, volatile=True), Variable(target)\n",
    "        output = model(data)\n",
    "        test_loss += F.nll_loss(output, target, size_average=False).data[0] # sum up batch loss\n",
    "        pred = output.data.max(1, keepdim=True)[1] # get the index of the max log-probability\n",
    "        correct += pred.eq(target.data.view_as(pred)).long().cpu().sum()\n",
    "\n",
    "    test_loss /= len(test_loader.dataset)\n",
    "    print('\\nTest set: Average loss: {:.4f}, Accuracy: {}/{} ({:.0f}%)\\n'.format(\n",
    "        test_loss, correct, len(test_loader.dataset),\n",
    "        100. * correct / len(test_loader.dataset)))\n",
    "\n",
    "\n",
    "for epoch in range(1, epochs + 1):\n",
    "    train(epoch)\n",
    "    test()\n",
    "```"
   ]
  },
  {
   "cell_type": "markdown",
   "metadata": {},
   "source": [
    "具体的 详细可执行代码可以参考 minist_cnn.py"
   ]
  },
  {
   "cell_type": "markdown",
   "metadata": {},
   "source": [
    "#### cnn 卷积申请网络使用的一些简单总结\n",
    "\n",
    "- 输入数据体的尺寸是W1* H1* D1 \n",
    "- 4 个超参数:滤波器数量K ， 滤波器空间尺寸F ， 滑动步长S ， 零填充的数量P 即 D2=K \n",
    "- 输出数据体的尺寸为W2* H2* D2 ， 其中W2 = (w1+2P -F)/S+1 ， H2 = (H1+2P -F)/S+1\n",
    "- 由于参数共享，每个滤波器包含的权重数目为 F*F*D1 ，卷积层→共有 F*F*D1 * K 个权重weight 和 bias\n",
    "- 在输出体数据中，第d个深度切片( 空间尺寸是W2 X H2 ) ， 用第d 个滤波器和输入数据进行有效卷积运算的结果，再加上第d个偏置。\n",
    "- 对于卷积神经网络的一些届参数，常见的设置是F=3 ， S=1 ， P=1 ，\n",
    "- 多个小的滤波器组合要比一个大的滤波器更好,因为多个小的滤波器可以使用更少的参数并且每一个滤波器后面都可以添加激活函数,可以更好的表征图片\n",
    "\n",
    "#### 池化\n",
    "- 池化相对于卷积来说只是利用图片的不变性 使用简单的计算如最大特征 平均值 等进一步减少网络参数,减低计算复杂度\n",
    "- 除了最大值池化之外，还有一些其他的池化函数，比如平均池化，或者L2 范数池化。在实际中证明，在卷积层之间引人最大池化的效果是最好的，而平均池化一般放在卷积神经网络的最后一层"
   ]
  },
  {
   "cell_type": "markdown",
   "metadata": {},
   "source": [
    "#### 神经网络结构查看\n",
    "直接使用 ```print(model)``` 可以查看神经网络结构\n",
    "Net(\n",
    "  (conv1): Conv2d(1, 10, kernel_size=(5, 5), stride=(1, 1))\n",
    "  (conv2): Conv2d(10, 20, kernel_size=(5, 5), stride=(1, 1))\n",
    "  (conv2_drop): Dropout2d(p=0.5)\n",
    "  (fc1): Linear(in_features=320, out_features=50, bias=True)\n",
    "  (fc2): Linear(in_features=50, out_features=10, bias=True)\n",
    ")\n"
   ]
  },
  {
   "cell_type": "code",
   "execution_count": null,
   "metadata": {},
   "outputs": [],
   "source": []
  }
 ],
 "metadata": {
  "kernelspec": {
   "display_name": "Python 3",
   "language": "python",
   "name": "python3"
  },
  "language_info": {
   "codemirror_mode": {
    "name": "ipython",
    "version": 3
   },
   "file_extension": ".py",
   "mimetype": "text/x-python",
   "name": "python",
   "nbconvert_exporter": "python",
   "pygments_lexer": "ipython3",
   "version": "3.6.1"
  }
 },
 "nbformat": 4,
 "nbformat_minor": 1
}
